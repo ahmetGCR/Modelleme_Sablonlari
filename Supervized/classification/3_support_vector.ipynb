{
 "cells": [
  {
   "cell_type": "markdown",
   "metadata": {},
   "source": [
    "# Support Vector Machine (SVM)"
   ]
  },
  {
   "cell_type": "code",
   "execution_count": null,
   "metadata": {},
   "outputs": [],
   "source": [
    "import numpy as np\n",
    "import matplotlib.pyplot as plt\n",
    "import pandas as pd"
   ]
  },
  {
   "cell_type": "code",
   "execution_count": null,
   "metadata": {},
   "outputs": [],
   "source": [
    "# veriyi oku\n",
    "df = pd.read_csv(\"?\",delimiter=\",\")\n",
    "df.head()"
   ]
  },
  {
   "cell_type": "code",
   "execution_count": null,
   "metadata": {},
   "outputs": [],
   "source": [
    "X = df.iloc[:, :-1].values\n",
    "y = df.iloc[:, -1].values"
   ]
  },
  {
   "cell_type": "code",
   "execution_count": null,
   "metadata": {},
   "outputs": [],
   "source": [
    "\"\"\"\n",
    "from sklearn.compose import ColumnTransformer\n",
    "from sklearn.preprocessing import OneHotEncoder\n",
    "\n",
    "kolon_dönüştürücü = ColumnTransformer(transformers=[(\"encoder_col_?\",OneHotEncoder(),[?])],remainder=\"passthrough\")\n",
    "\n",
    "x = np.array(kolon_dönüştürücü.fit_transform(x))\n",
    "x\n",
    "\n",
    "\"\"\""
   ]
  },
  {
   "cell_type": "code",
   "execution_count": null,
   "metadata": {},
   "outputs": [],
   "source": [
    "\"\"\"\n",
    "x = np.delete(x,0,axis=1)\n",
    "x\n",
    "\n",
    "\"\"\""
   ]
  },
  {
   "cell_type": "code",
   "execution_count": null,
   "metadata": {},
   "outputs": [],
   "source": [
    "from sklearn.model_selection import train_test_split\n",
    "X_train, X_test, y_train, y_test = train_test_split(X, y, test_size = 0.2, random_state = 0)"
   ]
  },
  {
   "cell_type": "code",
   "execution_count": null,
   "metadata": {},
   "outputs": [],
   "source": [
    "from sklearn.preprocessing import StandardScaler\n",
    "\n",
    "sc = StandardScaler()\n",
    "\n",
    "X_train = sc.fit_transform(X_train)\n",
    "X_test = sc.transform(X_test)"
   ]
  },
  {
   "cell_type": "code",
   "execution_count": null,
   "metadata": {},
   "outputs": [],
   "source": [
    "### Applying LDA\n",
    "\n",
    "from sklearn.discriminant_analysis import LinearDiscriminantAnalysis as LDA\n",
    "\n",
    "lda = LDA(n_components = 2)\n",
    "\n",
    "X_train = lda.fit_transform(X_train, y_train)\n",
    "\n",
    "X_test = lda.transform(X_test)"
   ]
  },
  {
   "cell_type": "code",
   "execution_count": null,
   "metadata": {},
   "outputs": [],
   "source": [
    "### Applying PCA\n",
    "from sklearn.decomposition import PCA\n",
    "\n",
    "pca = PCA(n_components = 3)\n",
    "\n",
    "X_train = pca.fit_transform(X_train)\n",
    "\n",
    "X_test = pca.transform(X_test)"
   ]
  },
  {
   "cell_type": "code",
   "execution_count": null,
   "metadata": {},
   "outputs": [],
   "source": [
    "from sklearn.svm import SVC\n",
    "\n",
    "# classifier'ı oluştur\n",
    "#classifier = SVC(kernel = 'linear')\n",
    "classifier = SVC(kernel = 'rbf')\n",
    "#classifier = SVC(kernel = 'sigmoid')\n",
    "\n",
    "# classifier'ı eğit\n",
    "classifier.fit(X_train, y_train)"
   ]
  },
  {
   "cell_type": "code",
   "execution_count": null,
   "metadata": {},
   "outputs": [],
   "source": [
    "\"\"\"\n",
    "# !!! Bu bölümü, Kernel fonksiyonunu \"poly\" olarak kullanmak istediğimizde çalıştıracağız.\n",
    "\n",
    "from sklearn.preprocessing import PolynomialFeatures\n",
    "from sklearn.svm import SVC\n",
    "\n",
    "# Polinom derecesini ayarla\n",
    "derece = 3\n",
    "\n",
    "# Polinom dönüşümünü uygula\n",
    "poly = PolynomialFeatures(degree=derece)\n",
    "X_train_poly = poly.fit_transform(X_train)\n",
    "X_test_poly = poly.transform(X_test)\n",
    "\n",
    "# classifier'ı oluştur\n",
    "classifier = SVC(kernel = 'poly', degree=derece)\n",
    "\n",
    "# classifier'ı eğit\n",
    "classifier.fit(X_train_poly, y_train)\n",
    "\n",
    "\"\"\""
   ]
  },
  {
   "cell_type": "code",
   "execution_count": null,
   "metadata": {},
   "outputs": [],
   "source": [
    "# Dikkat RandomizedSearchCV için kullan\n",
    "\n",
    "from sklearn.model_selection import RandomizedSearchCV\n",
    "from sklearn.model_selection import StratifiedKFold\n",
    "\n",
    "\n",
    "# Stratified K-fold Cross-Validation nesnesi oluşturma\n",
    "Skfold = StratifiedKFold(n_splits=5, shuffle=True, random_state=42)\n",
    "\n",
    "# Kernel SVM modelinde denenecek parametreleri ve değerlerini belirle\n",
    "parameters = [{'C': [0.25, 0.5, 0.75, 1], 'kernel': ['linear']},\n",
    "              {'C': [0.25, 0.5, 0.75, 1], 'kernel': ['rbf'], 'gamma': [0.1, 0.2, 0.3, 0.4, 0.5, 0.6, 0.7, 0.8, 0.9]}]\n",
    "\n",
    "\n",
    "# GridSearchCV nesnesini oluştur\n",
    "random_search = RandomizedSearchCV(estimator=classifier,\n",
    "                                   param_distributions=parameters,\n",
    "                                   scoring='accuracy',\n",
    "                                   cv=Skfold,\n",
    "                                   n_iter=10,\n",
    "                                   random_state=42,\n",
    "                                   n_jobs=-1)\n",
    "# oluşturulan GridSearchCV nesnesini fit et.\n",
    "random_search.fit(X_train, y_train)\n",
    "\n",
    "# grid_search nesnesinden elde edilen \"best_parameters\", \"best_accuracy\" ve \"std_dev\" değerlerini al.\n",
    "best_accuracy = random_search.best_score_\n",
    "std_dev = random_search.cv_results_['std_test_score']\n",
    "best_parameters = random_search.best_params_\n",
    "\n",
    "# Bu değerleri yazdır ve en iyi hiperparametreler ile oluşturulacak modelin risk analizini yap.\n",
    "print(\"Best Accuracy: {:.2f} %\".format(best_accuracy*100))\n",
    "print(\"Standard Deviation: {:.2f} %\".format(std_dev.mean() * 100))\n",
    "print(\"Best Parameters:\", best_parameters)"
   ]
  },
  {
   "cell_type": "code",
   "execution_count": null,
   "metadata": {},
   "outputs": [],
   "source": [
    "# Dikkat GridSearchCV için kullan\n",
    "from sklearn.model_selection import GridSearchCV\n",
    "\n",
    "from sklearn.model_selection import StratifiedKFold\n",
    "\n",
    "\n",
    "# Stratified K-fold Cross-Validation nesnesi oluşturma\n",
    "Skfold = StratifiedKFold(n_splits=5, shuffle=True, random_state=42)\n",
    "\n",
    "# Kernel SVM modelinde denenecek parametreleri ve değerlerini belirle\n",
    "parameters = [{'C': [0.25, 0.5, 0.75, 1], 'kernel': ['linear']},\n",
    "              {'C': [0.25, 0.5, 0.75, 1], 'kernel': ['rbf'], 'gamma': [0.1, 0.2, 0.3, 0.4, 0.5, 0.6, 0.7, 0.8, 0.9]}]\n",
    "\n",
    "# GridSearchCV nesnesini oluştur\n",
    "grid_search = GridSearchCV(estimator = classifier,\n",
    "                           param_grid = parameters,\n",
    "                           scoring = 'accuracy',\n",
    "                           cv = Skfold,\n",
    "                           n_jobs = -1)\n",
    "\n",
    "# oluşturulan GridSearchCV nesnesini fit et.\n",
    "grid_search.fit(X_train, y_train)\n",
    "\n",
    "\n",
    "# grid_search nesnesinden elde edilen \"best_parameters\", \"best_accuracy\" ve \"std_dev\" değerlerini al.\n",
    "best_parameters = grid_search.best_params_\n",
    "best_accuracy = grid_search.best_score_\n",
    "std_dev = grid_search.cv_results_['std_test_score']\n",
    "\n",
    "# Bu değerleri yazdır ve en iyi hiperparametreler ile oluşturulacak modelin risk analizini yap.\n",
    "print(\"Best Parameters:\", best_parameters)\n",
    "print(\"Best Accuracy: {:.2f} %\".format(best_accuracy*100))\n",
    "print(\"Standard Deviation: {:.2f} %\".format(std_dev.mean() * 100))"
   ]
  },
  {
   "cell_type": "code",
   "execution_count": null,
   "metadata": {},
   "outputs": [],
   "source": [
    "from sklearn.svm import SVC\n",
    "classifier = SVC(\"?\")\n",
    "classifier.fit(X_test, y_test)"
   ]
  },
  {
   "cell_type": "code",
   "execution_count": null,
   "metadata": {},
   "outputs": [],
   "source": [
    "from sklearn.metrics import confusion_matrix, accuracy_score\n",
    "y_pred = classifier.predict(X_test)\n",
    "cm = confusion_matrix(y_test, y_pred)\n",
    "print(cm)\n",
    "accuracy_score(y_test, y_pred)"
   ]
  },
  {
   "cell_type": "code",
   "execution_count": null,
   "metadata": {},
   "outputs": [],
   "source": [
    "\"\"\"\n",
    "# !!! Bu bölümü, Kernel fonksiyonunu \"poly\" olarak kullanıldı ise çalıştıracağız.\n",
    "y_pred = classifier.predict(X_test_poly)\n",
    "\n",
    "\"\"\""
   ]
  },
  {
   "cell_type": "code",
   "execution_count": null,
   "metadata": {},
   "outputs": [],
   "source": [
    "import matplotlib.pyplot as plt\n",
    "import seaborn as sns\n",
    "from sklearn.metrics import confusion_matrix\n",
    "\n",
    "cm = confusion_matrix(y_test, y_pred)\n",
    "\n",
    "# Heatmap'i çizme\n",
    "sns.heatmap(cm, annot=True, fmt=\"d\", cmap=\"Blues\")\n",
    "\n",
    "# Eksen etiketlerini ayarlama\n",
    "plt.title(\"Confusion Matrix\")\n",
    "plt.xlabel(\"Tahmin Edilen Etiketler\")\n",
    "plt.ylabel(\"Gerçek Etiketler\")\n",
    "\n",
    "# Grafiği gösterme\n",
    "plt.show()"
   ]
  },
  {
   "cell_type": "code",
   "execution_count": null,
   "metadata": {},
   "outputs": [],
   "source": [
    "from sklearn.metrics import accuracy_score\n",
    "\n",
    "accuracy = accuracy_score(y_test, y_pred)\n",
    "doğruluk_test = accuracy\n",
    "print(\"Doğruluk:\", accuracy)"
   ]
  },
  {
   "cell_type": "code",
   "execution_count": null,
   "metadata": {},
   "outputs": [],
   "source": [
    "from sklearn.metrics import precision_score, recall_score\n",
    "\n",
    "precision = precision_score(y_test, y_pred)\n",
    "recall = recall_score(y_test, y_pred)\n",
    "kesinlik_test = precision\n",
    "Hassasiyet_test = recall\n",
    "\n",
    "print(\"Kesinlik:\", precision)\n",
    "print(\"Hassasiyet:\", recall)"
   ]
  },
  {
   "cell_type": "code",
   "execution_count": null,
   "metadata": {},
   "outputs": [],
   "source": [
    "from sklearn.metrics import f1_score\n",
    "\n",
    "f1 = f1_score(y_test, y_pred)\n",
    "f1_test = f1\n",
    "print(\"F1 Skoru:\", f1)"
   ]
  },
  {
   "cell_type": "code",
   "execution_count": null,
   "metadata": {},
   "outputs": [],
   "source": [
    "from sklearn.metrics import roc_curve, roc_auc_score\n",
    "import matplotlib.pyplot as plt\n",
    "\n",
    "\n",
    "fpr, tpr, thresholds = roc_curve(y_test, y_pred)\n",
    "auc = roc_auc_score(y_test, y_pred)\n",
    "\n",
    "plt.plot(fpr, tpr, label='ROC Eğrisi (AUC = %0.2f)' % auc)\n",
    "plt.plot([0, 1], [0, 1], 'k--')\n",
    "plt.xlabel('False Positive Oranı')\n",
    "plt.ylabel('True Positive Oranı')\n",
    "plt.title('ROC Eğrisi')\n",
    "plt.legend(loc='lower right')\n",
    "plt.show()"
   ]
  },
  {
   "cell_type": "code",
   "execution_count": null,
   "metadata": {},
   "outputs": [],
   "source": [
    "\"\"\" # !!! KONTROL !!! \"\"\""
   ]
  },
  {
   "cell_type": "code",
   "execution_count": null,
   "metadata": {},
   "outputs": [],
   "source": [
    "y_pred_train = classifier.predict(X_train)"
   ]
  },
  {
   "cell_type": "code",
   "execution_count": null,
   "metadata": {},
   "outputs": [],
   "source": [
    "\"\"\"\n",
    "# !!! Bu bölümü, Kernel fonksiyonunu \"poly\" olarak kullanıldı ise çalıştıracağız.\n",
    "y_pred_train = classifier.predict(X_train_poly)\n",
    "\n",
    "\"\"\""
   ]
  },
  {
   "cell_type": "code",
   "execution_count": null,
   "metadata": {},
   "outputs": [],
   "source": [
    "import matplotlib.pyplot as plt\n",
    "import seaborn as sns\n",
    "from sklearn.metrics import confusion_matrix\n",
    "cm = confusion_matrix(y_train, y_pred_train)\n",
    "\n",
    "# Heatmap'i çizme\n",
    "sns.heatmap(cm, annot=True, fmt=\"d\", cmap=\"Blues\")\n",
    "\n",
    "# Eksen etiketlerini ayarlama\n",
    "plt.title(\"Confusion Matrix\")\n",
    "plt.xlabel(\"Tahmin Edilen Etiketler\")\n",
    "plt.ylabel(\"Gerçek Etiketler\")\n",
    "\n",
    "# Grafiği gösterme\n",
    "plt.show()"
   ]
  },
  {
   "cell_type": "code",
   "execution_count": null,
   "metadata": {},
   "outputs": [],
   "source": [
    "from sklearn.metrics import accuracy_score\n",
    "\n",
    "accuracy = accuracy_score(y_train, y_pred_train)\n",
    "doğruluk_train = accuracy\n",
    "print(\"Doğruluk:\", accuracy)"
   ]
  },
  {
   "cell_type": "code",
   "execution_count": null,
   "metadata": {},
   "outputs": [],
   "source": [
    "from sklearn.metrics import precision_score, recall_score\n",
    "\n",
    "precision = precision_score(y_train, y_pred_train)\n",
    "recall = recall_score(y_train, y_pred_train)\n",
    "kesinlik_train = precision\n",
    "Hassasiyet_train = recall\n",
    "\n",
    "print(\"Kesinlik:\", precision)\n",
    "print(\"Hassasiyet:\", recall)"
   ]
  },
  {
   "cell_type": "code",
   "execution_count": null,
   "metadata": {},
   "outputs": [],
   "source": [
    "from sklearn.metrics import f1_score\n",
    "\n",
    "f1 = f1_score(y_train, y_pred_train)\n",
    "f1_train = f1\n",
    "print(\"F1 Skoru:\", f1)"
   ]
  },
  {
   "cell_type": "code",
   "execution_count": null,
   "metadata": {},
   "outputs": [],
   "source": [
    "print(f\"Doğruluk:{doğruluk_test}\\nKesinlik:{kesinlik_test}\\nHassasiyet:{Hassasiyet_test}\\nf1:{f1_test}\\n\")\n",
    "print(f\"Doğruluk:{doğruluk_train}\\nKesinlik:{kesinlik_train}\\nHassasiyet:{Hassasiyet_train}\\nf1:{f1_train}\\n\")"
   ]
  },
  {
   "cell_type": "code",
   "execution_count": null,
   "metadata": {},
   "outputs": [],
   "source": [
    "from sklearn.metrics import roc_curve, roc_auc_score\n",
    "import matplotlib.pyplot as plt\n",
    "\n",
    "\n",
    "fpr, tpr, thresholds = roc_curve(y_train, y_pred_train)\n",
    "auc = roc_auc_score(y_train, y_pred_train)\n",
    "\n",
    "plt.plot(fpr, tpr, label='ROC Eğrisi (AUC = %0.2f)' % auc)\n",
    "plt.plot([0, 1], [0, 1], 'k--')\n",
    "plt.xlabel('False Positive Oranı')\n",
    "plt.ylabel('True Positive Oranı')\n",
    "plt.title('ROC Eğrisi')\n",
    "plt.legend(loc='lower right')\n",
    "plt.show()"
   ]
  },
  {
   "cell_type": "markdown",
   "metadata": {},
   "source": [
    "# Yeni data seti işlemleri"
   ]
  },
  {
   "cell_type": "code",
   "execution_count": null,
   "metadata": {},
   "outputs": [],
   "source": [
    "yeni_df = pd.read_csv('?', delimiter=\";\", header=0)\n",
    "yeni_df"
   ]
  },
  {
   "cell_type": "code",
   "execution_count": null,
   "metadata": {},
   "outputs": [],
   "source": [
    "yeni_df = yeni_df.iloc[:, :].values\n",
    "yeni_df"
   ]
  },
  {
   "cell_type": "code",
   "execution_count": null,
   "metadata": {},
   "outputs": [],
   "source": [
    "\"\"\"\n",
    "from sklearn.compose import ColumnTransformer\n",
    "from sklearn.preprocessing import OneHotEncoder\n",
    "\n",
    "kolon_dönüştürücü = ColumnTransformer(transformers=[(\"encoder_col_?\",OneHotEncoder(),[?])],remainder=\"passthrough\")\n",
    "\n",
    "x = np.array(kolon_dönüştürücü.fit_transform(x))\n",
    "x\n",
    "\n",
    "\"\"\""
   ]
  },
  {
   "cell_type": "code",
   "execution_count": null,
   "metadata": {},
   "outputs": [],
   "source": [
    "\"\"\"\n",
    "x = np.delete(x,0,axis=1)\n",
    "x\n",
    "\n",
    "\"\"\""
   ]
  },
  {
   "cell_type": "code",
   "execution_count": null,
   "metadata": {},
   "outputs": [],
   "source": [
    "yeni_df = sc.transform(yeni_df)"
   ]
  },
  {
   "cell_type": "code",
   "execution_count": null,
   "metadata": {},
   "outputs": [],
   "source": [
    "y_pred_yeni = classifier.predict(yeni_df)\n",
    "y_pred_yeni"
   ]
  },
  {
   "cell_type": "code",
   "execution_count": null,
   "metadata": {},
   "outputs": [],
   "source": [
    "y_pred_yeni_df = pd.DataFrame(y_pred_yeni, columns=[\"Tahmini_Output\"])\n",
    "y_pred_yeni_df.head(10)"
   ]
  },
  {
   "cell_type": "code",
   "execution_count": null,
   "metadata": {},
   "outputs": [],
   "source": [
    "all_df = yeni_df.merge(y_pred_yeni_df, how=\"left\", left_index=True, right_index=True)\n",
    "all_df"
   ]
  }
 ],
 "metadata": {
  "language_info": {
   "name": "python"
  }
 },
 "nbformat": 4,
 "nbformat_minor": 2
}
