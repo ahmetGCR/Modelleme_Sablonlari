{
 "cells": [
  {
   "cell_type": "markdown",
   "metadata": {},
   "source": [
    "## xgboost regression"
   ]
  },
  {
   "cell_type": "code",
   "execution_count": null,
   "metadata": {},
   "outputs": [],
   "source": [
    "import pandas as pd\n",
    "import numpy as np"
   ]
  },
  {
   "cell_type": "code",
   "execution_count": null,
   "metadata": {},
   "outputs": [],
   "source": [
    "# veriyi oku\n",
    "df = pd.read_csv(\"?\",delimiter=\",\")\n",
    "df.head()"
   ]
  },
  {
   "cell_type": "code",
   "execution_count": null,
   "metadata": {},
   "outputs": [],
   "source": [
    "x = df.iloc[:, :-1].values\n",
    "y = df.iloc[:, -1].values"
   ]
  },
  {
   "cell_type": "code",
   "execution_count": null,
   "metadata": {},
   "outputs": [],
   "source": [
    "\"\"\"\n",
    "from sklearn.compose import ColumnTransformer\n",
    "from sklearn.preprocessing import OneHotEncoder\n",
    "\n",
    "kolon_dönüştürücü = ColumnTransformer(transformers=[(\"encoder_col_?\",OneHotEncoder(),[?])],remainder=\"passthrough\")\n",
    "\n",
    "x = np.array(kolon_dönüştürücü.fit_transform(x))\n",
    "x\n",
    "\n",
    "\"\"\""
   ]
  },
  {
   "cell_type": "code",
   "execution_count": null,
   "metadata": {},
   "outputs": [],
   "source": [
    "\"\"\"\n",
    "x = np.delete(x,0,axis=1)\n",
    "x\n",
    "\n",
    "\"\"\""
   ]
  },
  {
   "cell_type": "code",
   "execution_count": null,
   "metadata": {},
   "outputs": [],
   "source": [
    "from sklearn.model_selection import train_test_split\n",
    "x_train, x_test, y_train, y_test = train_test_split(x, y, test_size = 0.2, random_state = 0)"
   ]
  },
  {
   "cell_type": "code",
   "execution_count": null,
   "metadata": {},
   "outputs": [],
   "source": [
    "### Applying LDA\n",
    "\n",
    "from sklearn.discriminant_analysis import LinearDiscriminantAnalysis as LDA\n",
    "\n",
    "lda = LDA(n_components = 2)\n",
    "\n",
    "X_train = lda.fit_transform(x_train, y_train)\n",
    "\n",
    "X_test = lda.transform(x_test)"
   ]
  },
  {
   "cell_type": "code",
   "execution_count": null,
   "metadata": {},
   "outputs": [],
   "source": [
    "### Applying PCA\n",
    "from sklearn.decomposition import PCA\n",
    "\n",
    "pca = PCA(n_components = 3)\n",
    "\n",
    "x_train = pca.fit_transform(x_train)\n",
    "\n",
    "x_test = pca.transform(x_test)\n"
   ]
  },
  {
   "cell_type": "code",
   "execution_count": null,
   "metadata": {},
   "outputs": [],
   "source": [
    "from xgboost import XGBClassifier\n",
    "classifier = XGBClassifier()\n",
    "classifier.fit(x_train, y_train)"
   ]
  },
  {
   "cell_type": "code",
   "execution_count": null,
   "metadata": {},
   "outputs": [],
   "source": [
    "from sklearn.model_selection import RandomizedSearchCV\n",
    "from sklearn.metrics import mean_squared_error\n",
    "import numpy as np\n",
    "\n",
    "# Hiperparametre aralıklarını belirleyin\n",
    "param_dist = {\n",
    "    'learning_rate': [0.01, 0.1, 0.2, 0.3],\n",
    "    'n_estimators': [50, 100, 200, 300],\n",
    "    'max_depth': [3, 5, 7, 10],\n",
    "    'subsample': [0.8, 0.9, 1.0],\n",
    "    'colsample_bytree': [0.8, 0.9, 1.0],\n",
    "    'gamma': [0, 0.1, 0.2],\n",
    "    'reg_lambda': [0, 0.1, 1, 2],  \n",
    "    'reg_alpha': [0, 0.1, 1, 2],   \n",
    "    'min_child_weight': [1, 3, 5]\n",
    "}\n",
    "\n",
    "# RandomizedSearchCV kullanarak hiperparametre ayarlaması yapın\n",
    "random_search = RandomizedSearchCV(classifier, param_distributions=param_dist, n_iter=10, scoring='neg_mean_squared_error', cv=5, random_state=0)\n",
    "random_search.fit(x_train, y_train)\n",
    "\n",
    "# En iyi hiperparametreleri görüntüle\n",
    "print(\"En İyi Parametreler:\", random_search.best_params_)\n",
    "\n",
    "# En iyi modeli kullanarak tahmin yapın\n",
    "y_pred = random_search.best_estimator_.predict(x_test)\n",
    "\n",
    "# Test seti üzerinde performansı değerlendirin (örnek olarak, RMSE - Root Mean Squared Error)\n",
    "rmse = np.sqrt(mean_squared_error(y_test, y_pred))\n",
    "print(\"Test RMSE:\", rmse)"
   ]
  },
  {
   "cell_type": "code",
   "execution_count": null,
   "metadata": {},
   "outputs": [],
   "source": [
    "from xgboost import XGBClassifier\n",
    "regressor = XGBClassifier(\"?\")\n",
    "regressor.fit(x_train, y_train)"
   ]
  },
  {
   "cell_type": "code",
   "execution_count": null,
   "metadata": {},
   "outputs": [],
   "source": [
    "from sklearn.metrics import confusion_matrix, accuracy_score\n",
    "y_pred = classifier.predict(X_test)\n",
    "cm = confusion_matrix(y_test, y_pred)\n",
    "print(cm)\n",
    "accuracy_score(y_test, y_pred)"
   ]
  },
  {
   "cell_type": "code",
   "execution_count": null,
   "metadata": {},
   "outputs": [],
   "source": [
    "import matplotlib.pyplot as plt\n",
    "import seaborn as sns\n",
    "\n",
    "# Heatmap'i çizme\n",
    "sns.heatmap(cm, annot=True, fmt=\"d\", cmap=\"Blues\")\n",
    "\n",
    "# Eksen etiketlerini ayarlama\n",
    "plt.title(\"Confusion Matrix\")\n",
    "plt.xlabel(\"Tahmin Edilen Etiketler\")\n",
    "plt.ylabel(\"Gerçek Etiketler\")\n",
    "\n",
    "# Grafiği gösterme\n",
    "plt.show()"
   ]
  },
  {
   "cell_type": "code",
   "execution_count": null,
   "metadata": {},
   "outputs": [],
   "source": [
    "from sklearn.metrics import accuracy_score\n",
    "\n",
    "accuracy = accuracy_score(y_test, y_pred)\n",
    "doğruluk_test = accuracy\n",
    "print(\"Doğruluk:\", accuracy)"
   ]
  },
  {
   "cell_type": "code",
   "execution_count": null,
   "metadata": {},
   "outputs": [],
   "source": [
    "from sklearn.metrics import precision_score, recall_score\n",
    "\n",
    "precision = precision_score(y_test, y_pred)\n",
    "recall = recall_score(y_test, y_pred)\n",
    "kesinlik_test = precision\n",
    "Hassasiyet_test = recall\n",
    "\n",
    "print(\"Kesinlik:\", precision)\n",
    "print(\"Hassasiyet:\", recall)"
   ]
  },
  {
   "cell_type": "code",
   "execution_count": null,
   "metadata": {},
   "outputs": [],
   "source": [
    "from sklearn.metrics import f1_score\n",
    "\n",
    "f1 = f1_score(y_test, y_pred)\n",
    "f1_test = f1\n",
    "print(\"F1 Skoru:\", f1)"
   ]
  },
  {
   "cell_type": "code",
   "execution_count": null,
   "metadata": {},
   "outputs": [],
   "source": [
    "from sklearn.metrics import roc_curve, roc_auc_score\n",
    "import matplotlib.pyplot as plt\n",
    "\n",
    "\n",
    "fpr, tpr, thresholds = roc_curve(y_test, y_pred)\n",
    "auc = roc_auc_score(y_test, y_pred)\n",
    "\n",
    "plt.plot(fpr, tpr, label='ROC Eğrisi (AUC = %0.2f)' % auc)\n",
    "plt.plot([0, 1], [0, 1], 'k--')\n",
    "plt.xlabel('False Positive Oranı')\n",
    "plt.ylabel('True Positive Oranı')\n",
    "plt.title('ROC Eğrisi')\n",
    "plt.legend(loc='lower right')\n",
    "plt.show()"
   ]
  },
  {
   "cell_type": "code",
   "execution_count": null,
   "metadata": {},
   "outputs": [],
   "source": [
    "\"\"\" # !!! KONTROL !!! \"\"\""
   ]
  },
  {
   "cell_type": "code",
   "execution_count": null,
   "metadata": {},
   "outputs": [],
   "source": [
    "y_pred_train = classifier.predict(X_train)"
   ]
  },
  {
   "cell_type": "code",
   "execution_count": null,
   "metadata": {},
   "outputs": [],
   "source": [
    "import matplotlib.pyplot as plt\n",
    "import seaborn as sns\n",
    "from sklearn.metrics import confusion_matrix\n",
    "cm = confusion_matrix(y_train, y_pred_train)\n",
    "\n",
    "# Heatmap'i çizme\n",
    "sns.heatmap(cm, annot=True, fmt=\"d\", cmap=\"Blues\")\n",
    "\n",
    "# Eksen etiketlerini ayarlama\n",
    "plt.title(\"Confusion Matrix\")\n",
    "plt.xlabel(\"Tahmin Edilen Etiketler\")\n",
    "plt.ylabel(\"Gerçek Etiketler\")\n",
    "\n",
    "# Grafiği gösterme\n",
    "plt.show()"
   ]
  },
  {
   "cell_type": "code",
   "execution_count": null,
   "metadata": {},
   "outputs": [],
   "source": [
    "from sklearn.metrics import accuracy_score\n",
    "\n",
    "accuracy = accuracy_score(y_train, y_pred_train)\n",
    "doğruluk_train = accuracy\n",
    "print(\"Doğruluk:\", accuracy)"
   ]
  },
  {
   "cell_type": "code",
   "execution_count": null,
   "metadata": {},
   "outputs": [],
   "source": [
    "from sklearn.metrics import precision_score, recall_score\n",
    "\n",
    "precision = precision_score(y_train, y_pred_train)\n",
    "recall = recall_score(y_train, y_pred_train)\n",
    "kesinlik_train = precision\n",
    "Hassasiyet_train = recall\n",
    "\n",
    "print(\"Kesinlik:\", precision)\n",
    "print(\"Hassasiyet:\", recall)"
   ]
  },
  {
   "cell_type": "code",
   "execution_count": null,
   "metadata": {},
   "outputs": [],
   "source": [
    "from sklearn.metrics import f1_score\n",
    "\n",
    "f1 = f1_score(y_train, y_pred_train)\n",
    "f1_train = f1\n",
    "print(\"F1 Skoru:\", f1)"
   ]
  },
  {
   "cell_type": "code",
   "execution_count": null,
   "metadata": {},
   "outputs": [],
   "source": [
    "print(f\"Doğruluk:{doğruluk_test}\\nKesinlik:{kesinlik_test}\\nHassasiyet:{Hassasiyet_test}\\nf1:{f1_test}\\n\")\n",
    "print(f\"Doğruluk:{doğruluk_train}\\nKesinlik:{kesinlik_train}\\nHassasiyet:{Hassasiyet_train}\\nf1:{f1_train}\\n\")"
   ]
  },
  {
   "cell_type": "code",
   "execution_count": null,
   "metadata": {},
   "outputs": [],
   "source": [
    "from sklearn.metrics import roc_curve, roc_auc_score\n",
    "import matplotlib.pyplot as plt\n",
    "\n",
    "\n",
    "fpr, tpr, thresholds = roc_curve(y_train, y_pred_train)\n",
    "auc = roc_auc_score(y_train, y_pred_train)\n",
    "\n",
    "plt.plot(fpr, tpr, label='ROC Eğrisi (AUC = %0.2f)' % auc)\n",
    "plt.plot([0, 1], [0, 1], 'k--')\n",
    "plt.xlabel('False Positive Oranı')\n",
    "plt.ylabel('True Positive Oranı')\n",
    "plt.title('ROC Eğrisi')\n",
    "plt.legend(loc='lower right')\n",
    "plt.show()"
   ]
  },
  {
   "cell_type": "markdown",
   "metadata": {},
   "source": [
    "# Yeni data seti işlemleri"
   ]
  },
  {
   "cell_type": "code",
   "execution_count": null,
   "metadata": {},
   "outputs": [],
   "source": [
    "yeni_df = pd.read_csv('?', delimiter=\";\", header=0)\n",
    "yeni_df"
   ]
  },
  {
   "cell_type": "code",
   "execution_count": null,
   "metadata": {},
   "outputs": [],
   "source": [
    "yeni_df = yeni_df.iloc[:, :].values\n",
    "yeni_df"
   ]
  },
  {
   "cell_type": "code",
   "execution_count": null,
   "metadata": {},
   "outputs": [],
   "source": [
    "\"\"\"\n",
    "from sklearn.compose import ColumnTransformer\n",
    "from sklearn.preprocessing import OneHotEncoder\n",
    "\n",
    "kolon_dönüştürücü = ColumnTransformer(transformers=[(\"encoder_col_?\",OneHotEncoder(),[?])],remainder=\"passthrough\")\n",
    "\n",
    "x = np.array(kolon_dönüştürücü.fit_transform(x))\n",
    "x\n",
    "\n",
    "\"\"\""
   ]
  },
  {
   "cell_type": "code",
   "execution_count": null,
   "metadata": {},
   "outputs": [],
   "source": [
    "\"\"\"\n",
    "x = np.delete(x,0,axis=1)\n",
    "x\n",
    "\n",
    "\"\"\""
   ]
  },
  {
   "cell_type": "code",
   "execution_count": null,
   "metadata": {},
   "outputs": [],
   "source": [
    "yeni_df = sc.transform(yeni_df)"
   ]
  },
  {
   "cell_type": "code",
   "execution_count": null,
   "metadata": {},
   "outputs": [],
   "source": [
    "y_pred_yeni = classifier.predict(yeni_df)\n",
    "y_pred_yeni"
   ]
  },
  {
   "cell_type": "code",
   "execution_count": null,
   "metadata": {},
   "outputs": [],
   "source": [
    "y_pred_yeni_df = pd.DataFrame(y_pred_yeni, columns=[\"Tahmini_Output\"])\n",
    "y_pred_yeni_df.head(10)"
   ]
  },
  {
   "cell_type": "code",
   "execution_count": null,
   "metadata": {},
   "outputs": [],
   "source": [
    "all_df = yeni_df.merge(y_pred_yeni_df, how=\"left\", left_index=True, right_index=True)\n",
    "all_df"
   ]
  }
 ],
 "metadata": {
  "kernelspec": {
   "display_name": "Python 3",
   "language": "python",
   "name": "python3"
  },
  "language_info": {
   "codemirror_mode": {
    "name": "ipython",
    "version": 3
   },
   "file_extension": ".py",
   "mimetype": "text/x-python",
   "name": "python",
   "nbconvert_exporter": "python",
   "pygments_lexer": "ipython3",
   "version": "3.12.0"
  }
 },
 "nbformat": 4,
 "nbformat_minor": 2
}
